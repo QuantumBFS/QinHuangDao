{
 "cells": [
  {
   "cell_type": "markdown",
   "metadata": {
    "colab_type": "text",
    "id": "EgTCZqlhfS7i"
   },
   "source": [
    "# Installation of Pytorch\n",
    "Pytorch binary can be installed by pip, or complied following instructions in https://github.com/pytorch/pytorch#from-source.\n",
    "\n",
    "Here we will use pip."
   ]
  },
  {
   "cell_type": "code",
   "execution_count": 1,
   "metadata": {
    "colab": {
     "autoexec": {
      "startup": false,
      "wait_interval": 0
     },
     "base_uri": "https://localhost:8080/",
     "height": 136,
     "output_extras": [
      {
       "item_id": 5
      },
      {
       "item_id": 8
      }
     ]
    },
    "colab_type": "code",
    "collapsed": true,
    "executionInfo": {
     "elapsed": 86779,
     "status": "ok",
     "timestamp": 1519172965534,
     "user": {
      "displayName": "li li",
      "photoUrl": "//lh5.googleusercontent.com/-EpOiByGU5dA/AAAAAAAAAAI/AAAAAAAAACc/ZQHNZAF7xMQ/s50-c-k-no/photo.jpg",
      "userId": "118127190614979245201"
     },
     "user_tz": -60
    },
    "id": "qc3aNHrlNUgb",
    "outputId": "3049d2c1-7057-4e93-da9a-8c48092244c6"
   },
   "outputs": [],
   "source": [
    "try:\n",
    "    import torch\n",
    "except:\n",
    "    !pip install torch torchvision\n",
    "    import torch"
   ]
  },
  {
   "cell_type": "markdown",
   "metadata": {
    "colab_type": "text",
    "id": "12qTRX3kk12I"
   },
   "source": [
    "# Introducing Pytorch\n",
    "Pytoch is composed of three parts: Tensors, Autograd and Module.\n",
    "\n",
    "For more detailed tutorial, refer to http://pytorch.org/tutorials/beginner/deep_learning_60min_blitz.html."
   ]
  },
  {
   "cell_type": "markdown",
   "metadata": {
    "colab_type": "text",
    "id": "zZs_ktmM5oSP"
   },
   "source": [
    "## Tensors\n",
    "They are like numpy arrays, you can do basic operations on them, like:"
   ]
  },
  {
   "cell_type": "code",
   "execution_count": 2,
   "metadata": {
    "colab": {
     "autoexec": {
      "startup": false,
      "wait_interval": 0
     }
    },
    "colab_type": "code",
    "collapsed": true,
    "id": "sbX3l1hHlR0h"
   },
   "outputs": [],
   "source": [
    "import numpy as np\n",
    "import torch\n",
    "\n",
    "a = torch.Tensor([1,2,3])\n",
    "b = torch.Tensor([3,4,5])\n",
    "\n",
    "c = a+b # add.\n",
    "\n",
    "a = torch.ones(4,4)\n",
    "b = torch.ones(4)\n",
    "\n",
    "c = torch.mv(a,b) # matrix multiply vector.\n",
    "\n",
    "a = torch.randn(4,4)\n",
    "b = torch.randn(4,3)\n",
    "\n",
    "c = torch.mm(a,b) # matrix multiply matrix.\n",
    "\n",
    "# indexing Tensor is the same as indexing numpy array.\n",
    "\n",
    "c[:,0]\n",
    "\n",
    "a_np = a.numpy() # convert tensor to numpy array.\n",
    "\n",
    "d = torch.from_numpy(a_np) # convert numpy array to tensor."
   ]
  },
  {
   "cell_type": "markdown",
   "metadata": {
    "colab_type": "text",
    "id": "U5zg4PzToTKV"
   },
   "source": [
    "## Autograd\n",
    "Also, after pytorch 0.4, tensors can be used as a node in computation graph(or called Variable in 0.3 and before). They can be used to calculate gradients, like:"
   ]
  },
  {
   "cell_type": "code",
   "execution_count": 3,
   "metadata": {
    "colab": {
     "autoexec": {
      "startup": false,
      "wait_interval": 0
     },
     "base_uri": "https://localhost:8080/",
     "height": 272,
     "output_extras": [
      {
       "item_id": 1
      }
     ]
    },
    "colab_type": "code",
    "executionInfo": {
     "elapsed": 8885,
     "status": "ok",
     "timestamp": 1519172976828,
     "user": {
      "displayName": "li li",
      "photoUrl": "//lh5.googleusercontent.com/-EpOiByGU5dA/AAAAAAAAAAI/AAAAAAAAACc/ZQHNZAF7xMQ/s50-c-k-no/photo.jpg",
      "userId": "118127190614979245201"
     },
     "user_tz": -60
    },
    "id": "9rGSVDPHpAyl",
    "outputId": "ef60adb8-2dfe-47f8-ddeb-4652cf453b68"
   },
   "outputs": [
    {
     "name": "stdout",
     "output_type": "stream",
     "text": [
      "tensor(27.)\n",
      "<MeanBackward1 object at 0x111cad2b0>\n",
      "tensor([[ 4.5000,  4.5000],\n",
      "        [ 4.5000,  4.5000]])\n",
      "tensor([[ 1.,  1.],\n",
      "        [ 1.,  1.]])\n",
      "27.0\n"
     ]
    }
   ],
   "source": [
    "x = torch.ones(2, 2, requires_grad=True)\n",
    "y = x + 2\n",
    "z = y * y * 3\n",
    "out = z.mean()\n",
    "print(out) # the result of above computation.\n",
    "print(out.grad_fn) # print the former point of out in computation graph.\n",
    "out.backward() # do backward of this computation graph.\n",
    "print(x.grad) # the gradient of original X.\n",
    "\n",
    "print(x.detach()) # detach() gives a copy of tensor called on and this copy doesn't need gradients.\n",
    "print(out.detach().numpy()) # note that after used in computation graph you have to detach to call numpy()."
   ]
  },
  {
   "cell_type": "markdown",
   "metadata": {
    "colab_type": "text",
    "id": "DFPrSt2LreJs"
   },
   "source": [
    "## Module\n",
    "To define a neural network, we need Module. Module is the base class for all neural network modules.\n",
    "\n",
    "The following code define a neural network same as the neural network wrote using numpy in BP tutorial"
   ]
  },
  {
   "cell_type": "code",
   "execution_count": 4,
   "metadata": {},
   "outputs": [
    {
     "name": "stdout",
     "output_type": "stream",
     "text": [
      "Net(\n",
      "  (linear): Linear(in_features=784, out_features=10, bias=True)\n",
      ")\n"
     ]
    }
   ],
   "source": [
    "import torch.nn as nn\n",
    "import torch.nn.functional as F\n",
    "\n",
    "# create a neural network\n",
    "class Net(nn.Module):\n",
    "    def __init__(self):\n",
    "        super(Net, self).__init__()\n",
    "        self.linear = nn.Linear(28 * 28, 10)\n",
    "\n",
    "    def forward(self, x):\n",
    "        return F.log_softmax(self.linear(x))\n",
    "\n",
    "\n",
    "net = Net()\n",
    "print(net)"
   ]
  },
  {
   "cell_type": "markdown",
   "metadata": {},
   "source": [
    "# Demo: A Digit Classification Problem using Pytorch\n",
    "\n"
   ]
  },
  {
   "cell_type": "code",
   "execution_count": 5,
   "metadata": {
    "collapsed": true
   },
   "outputs": [],
   "source": [
    "from torchvision import datasets, transforms\n",
    "\n",
    "# data loader: we split the dataset into training set and test set.\n",
    "batch_size = 200\n",
    "train_loader = torch.utils.data.DataLoader(\n",
    "    datasets.MNIST('./data', train=True, download=True,\n",
    "                   transform=transforms.Compose([\n",
    "                       transforms.ToTensor(),\n",
    "                       transforms.Normalize((0.1307,), (0.3081,))\n",
    "                   ])),\n",
    "    batch_size=batch_size, shuffle=True)\n",
    "test_loader = torch.utils.data.DataLoader(\n",
    "    datasets.MNIST('./data', train=False, transform=transforms.Compose([\n",
    "        transforms.ToTensor(),\n",
    "        transforms.Normalize((0.1307,), (0.3081,))\n",
    "    ])),\n",
    "    batch_size=batch_size, shuffle=True)"
   ]
  },
  {
   "cell_type": "code",
   "execution_count": 6,
   "metadata": {
    "collapsed": true
   },
   "outputs": [],
   "source": [
    "import torch.optim as optim\n",
    "\n",
    "def train(learning_rate=0.5, epochs=10):\n",
    "\n",
    "    # create a stochastic gradient descent optimizer\n",
    "    optimizer = optim.SGD(net.parameters(), lr=learning_rate, momentum=0)\n",
    "    # create a loss function\n",
    "    loss_func = nn.NLLLoss()\n",
    "\n",
    "    # run the main training loop\n",
    "    for epoch in range(epochs):\n",
    "        for batch_idx, (data, target) in enumerate(train_loader):\n",
    "            # resize data from (batch_size, 1, 28, 28) to (batch_size, 28*28)\n",
    "            data = data.view(-1, 28 * 28)\n",
    "            optimizer.zero_grad()\n",
    "            net_out = net(data)\n",
    "            loss = loss_func(net_out, target)\n",
    "            loss.backward()\n",
    "            optimizer.step()\n",
    "        print('Train Epoch: {} \\tLoss: {:.6f}'.format(epoch, loss.data[0]))\n",
    "\n",
    "    # run a test loop\n",
    "    test_loss = 0\n",
    "    correct = 0\n",
    "    for data, target in test_loader:\n",
    "        data = data.view(-1, 28 * 28)\n",
    "        net_out = net(data)\n",
    "        # sum up batch loss\n",
    "        test_loss += loss_func(net_out, target).data[0]\n",
    "        # get the index of the max log-probability\n",
    "        pred = net_out.data.max(1)[1]\n",
    "        correct += pred.eq(target.data).sum()\n",
    "\n",
    "    test_loss /= len(test_loader.dataset)\n",
    "    print('\\nTest set: Average loss: {:.4f}, Accuracy: {}/{} ({:.0f}%)\\n'.format(\n",
    "        test_loss, correct, len(test_loader.dataset),\n",
    "        100. * correct / len(test_loader.dataset)))"
   ]
  },
  {
   "cell_type": "code",
   "execution_count": 7,
   "metadata": {},
   "outputs": [
    {
     "name": "stderr",
     "output_type": "stream",
     "text": [
      "/Users/lili/anaconda3/lib/python3.6/site-packages/ipykernel_launcher.py:11: UserWarning: Implicit dimension choice for log_softmax has been deprecated. Change the call to include dim=X as an argument.\n",
      "  # This is added back by InteractiveShellApp.init_path()\n",
      "/Users/lili/anaconda3/lib/python3.6/site-packages/ipykernel_launcher.py:20: UserWarning: invalid index of a 0-dim tensor. This will be an error in PyTorch 0.5. Use tensor.item() to convert a 0-dim tensor to a Python number\n"
     ]
    },
    {
     "name": "stdout",
     "output_type": "stream",
     "text": [
      "Train Epoch: 0 \tLoss: 0.557232\n",
      "Train Epoch: 1 \tLoss: 0.517485\n",
      "Train Epoch: 2 \tLoss: 0.279360\n",
      "Train Epoch: 3 \tLoss: 0.644049\n",
      "Train Epoch: 4 \tLoss: 0.521326\n",
      "Train Epoch: 5 \tLoss: 1.066420\n",
      "Train Epoch: 6 \tLoss: 1.029705\n",
      "Train Epoch: 7 \tLoss: 0.623573\n",
      "Train Epoch: 8 \tLoss: 0.221929\n",
      "Train Epoch: 9 \tLoss: 0.986599\n"
     ]
    },
    {
     "name": "stderr",
     "output_type": "stream",
     "text": [
      "/Users/lili/anaconda3/lib/python3.6/site-packages/ipykernel_launcher.py:29: UserWarning: invalid index of a 0-dim tensor. This will be an error in PyTorch 0.5. Use tensor.item() to convert a 0-dim tensor to a Python number\n"
     ]
    },
    {
     "name": "stdout",
     "output_type": "stream",
     "text": [
      "\n",
      "Test set: Average loss: 0.0052, Accuracy: 8380/10000 (83%)\n",
      "\n"
     ]
    }
   ],
   "source": [
    "train()"
   ]
  },
  {
   "cell_type": "code",
   "execution_count": null,
   "metadata": {
    "collapsed": true
   },
   "outputs": [],
   "source": []
  }
 ],
 "metadata": {
  "colab": {
   "collapsed_sections": [],
   "default_view": {},
   "name": "nice.ipynb",
   "provenance": [
    {
     "file_id": "1Lpp0qZjeF-NK_S6ROzsNvQzd2fFQ0Akt",
     "timestamp": 1517758638516
    }
   ],
   "version": "0.3.2",
   "views": {}
  },
  "kernelspec": {
   "display_name": "Python 3",
   "language": "python",
   "name": "python3"
  },
  "language_info": {
   "codemirror_mode": {
    "name": "ipython",
    "version": 3
   },
   "file_extension": ".py",
   "mimetype": "text/x-python",
   "name": "python",
   "nbconvert_exporter": "python",
   "pygments_lexer": "ipython3",
   "version": "3.6.1"
  }
 },
 "nbformat": 4,
 "nbformat_minor": 1
}
