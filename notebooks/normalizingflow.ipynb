{
  "nbformat": 4,
  "nbformat_minor": 0,
  "metadata": {
    "colab": {
      "name": "normalizingflow.ipynb",
      "version": "0.3.2",
      "views": {},
      "default_view": {},
      "provenance": [],
      "collapsed_sections": []
    }
  },
  "cells": [
    {
      "metadata": {
        "id": "p592DbExEBWi",
        "colab_type": "code",
        "colab": {
          "autoexec": {
            "startup": false,
            "wait_interval": 0
          }
        }
      },
      "cell_type": "code",
      "source": [
        "import numpy as np\n",
        "from scipy.stats import lognorm, norm\n",
        "import matplotlib.pyplot as plt"
      ],
      "execution_count": 0,
      "outputs": []
    },
    {
      "metadata": {
        "id": "X6Z1KheiELQm",
        "colab_type": "code",
        "colab": {
          "autoexec": {
            "startup": false,
            "wait_interval": 0
          }
        }
      },
      "cell_type": "code",
      "source": [
        "# uniform random numbers\n",
        "z = np.random.uniform(0, 1, 10000)"
      ],
      "execution_count": 0,
      "outputs": []
    },
    {
      "metadata": {
        "id": "oxN0qMW0EcBt",
        "colab_type": "code",
        "colab": {
          "autoexec": {
            "startup": false,
            "wait_interval": 0
          }
        }
      },
      "cell_type": "code",
      "source": [
        "# plotting\n",
        "xvals = np.linspace(-5,5,100)\n",
        "def showpdf(x):\n",
        "    plt.hist(x, bins=xvals, density=True)\n",
        "    plt.ylabel('$p$',fontsize=16)"
      ],
      "execution_count": 0,
      "outputs": []
    },
    {
      "metadata": {
        "id": "Xk-X-Zd5A8WB",
        "colab_type": "text"
      },
      "cell_type": "markdown",
      "source": [
        "# Box-Muller Algorithm"
      ]
    },
    {
      "metadata": {
        "id": "NBsl6V6GA7oI",
        "colab_type": "code",
        "colab": {
          "autoexec": {
            "startup": false,
            "wait_interval": 0
          }
        }
      },
      "cell_type": "code",
      "source": [
        "z1 = z[:len(z)//2]\n",
        "z2 = z[len(z)//2:]\n",
        "x1 = np.sqrt(-2*np.log(z1))*np.cos(2*np.pi*z2)\n",
        "x2 = np.sqrt(-2*np.log(z1))*np.sin(2*np.pi*z2)"
      ],
      "execution_count": 0,
      "outputs": []
    },
    {
      "metadata": {
        "id": "ivqo4aByCCiK",
        "colab_type": "code",
        "colab": {
          "autoexec": {
            "startup": false,
            "wait_interval": 0
          },
          "base_uri": "https://localhost:8080/",
          "height": 365
        },
        "outputId": "530231c1-9336-4220-f30d-201c9f45228b",
        "executionInfo": {
          "status": "ok",
          "timestamp": 1531884909139,
          "user_tz": -480,
          "elapsed": 3684,
          "user": {
            "displayName": "刘金国",
            "photoUrl": "//lh3.googleusercontent.com/-lDAT81T3HSE/AAAAAAAAAAI/AAAAAAAAAgw/eH3JEob7M1Y/s50-c-k-no/photo.jpg",
            "userId": "116824001998056121289"
          }
        }
      },
      "cell_type": "code",
      "source": [
        "showpdf(x1)\n",
        "showpdf(x2)\n",
        "plt.plot(xvals,  np.exp(-xvals**2/2)/np.sqrt(2*np.pi), color='#CC3333')"
      ],
      "execution_count": 5,
      "outputs": [
        {
          "output_type": "execute_result",
          "data": {
            "text/plain": [
              "[<matplotlib.lines.Line2D at 0x7f6131c0bd50>]"
            ]
          },
          "metadata": {
            "tags": []
          },
          "execution_count": 5
        },
        {
          "output_type": "display_data",
          "data": {
            "image/png": "[encoded data removed]",
            "text/plain": [
              "<matplotlib.figure.Figure at 0x7f6131fd9750>"
            ]
          },
          "metadata": {
            "tags": []
          }
        }
      ]
    },
    {
      "metadata": {
        "id": "PRMml9ECdNks",
        "colab_type": "text"
      },
      "cell_type": "markdown",
      "source": [
        "## Inverse transformation"
      ]
    },
    {
      "metadata": {
        "id": "dksV4GbadFgE",
        "colab_type": "code",
        "colab": {
          "autoexec": {
            "startup": false,
            "wait_interval": 0
          },
          "base_uri": "https://localhost:8080/",
          "height": 347
        },
        "outputId": "0901321f-46c5-43a3-ec25-76ca9298f215",
        "executionInfo": {
          "status": "ok",
          "timestamp": 1531884932383,
          "user_tz": -480,
          "elapsed": 1100,
          "user": {
            "displayName": "刘金国",
            "photoUrl": "//lh3.googleusercontent.com/-lDAT81T3HSE/AAAAAAAAAAI/AAAAAAAAAgw/eH3JEob7M1Y/s50-c-k-no/photo.jpg",
            "userId": "116824001998056121289"
          }
        }
      },
      "cell_type": "code",
      "source": [
        "z1_ = np.exp(-0.5*(x1**2 + x2**2))\n",
        "z2_ = (np.angle(x1+1j*x2)/np.pi/2)%1\n",
        "showpdf(z1_)\n",
        "showpdf(z2_)"
      ],
      "execution_count": 6,
      "outputs": [
        {
          "output_type": "display_data",
          "data": {
            "image/png": "[encoded data removed]",
            "text/plain": [
              "<matplotlib.figure.Figure at 0x7f6131c88a10>"
            ]
          },
          "metadata": {
            "tags": []
          }
        }
      ]
    },
    {
      "metadata": {
        "id": "olok1BXDXvLm",
        "colab_type": "text"
      },
      "cell_type": "markdown",
      "source": [
        "# Survival Function"
      ]
    },
    {
      "metadata": {
        "id": "c8dqYElNXzOl",
        "colab_type": "code",
        "colab": {
          "autoexec": {
            "startup": false,
            "wait_interval": 0
          },
          "base_uri": "https://localhost:8080/",
          "height": 347
        },
        "outputId": "64ed619f-cc66-4f64-fac7-aed09a13c408",
        "executionInfo": {
          "status": "ok",
          "timestamp": 1530977705931,
          "user_tz": -480,
          "elapsed": 873,
          "user": {
            "displayName": "刘金国",
            "photoUrl": "//lh3.googleusercontent.com/-lDAT81T3HSE/AAAAAAAAAAI/AAAAAAAAAgw/eH3JEob7M1Y/s50-c-k-no/photo.jpg",
            "userId": "116824001998056121289"
          }
        }
      },
      "cell_type": "code",
      "source": [
        "showpdf(norm.sf(np.random.randn(10000)))"
      ],
      "execution_count": 62,
      "outputs": [
        {
          "output_type": "display_data",
          "data": {
            "image/png": "[encoded data removed]",
            "text/plain": [
              "<matplotlib.figure.Figure at 0x7fa7e64f5090>"
            ]
          },
          "metadata": {
            "tags": []
          }
        }
      ]
    },
    {
      "metadata": {
        "id": "Xz2tnAneYPkF",
        "colab_type": "code",
        "colab": {
          "autoexec": {
            "startup": false,
            "wait_interval": 0
          },
          "base_uri": "https://localhost:8080/",
          "height": 347
        },
        "outputId": "92b117f9-ace6-4417-b8f7-c358fed5d238",
        "executionInfo": {
          "status": "ok",
          "timestamp": 1530977708891,
          "user_tz": -480,
          "elapsed": 2770,
          "user": {
            "displayName": "刘金国",
            "photoUrl": "//lh3.googleusercontent.com/-lDAT81T3HSE/AAAAAAAAAAI/AAAAAAAAAgw/eH3JEob7M1Y/s50-c-k-no/photo.jpg",
            "userId": "116824001998056121289"
          }
        }
      },
      "cell_type": "code",
      "source": [
        "\n",
        "plt.plot(xvals,  norm.pdf(xvals), color='#CC3333')\n",
        "showpdf(norm.isf(np.random.random(10000)))"
      ],
      "execution_count": 63,
      "outputs": [
        {
          "output_type": "display_data",
          "data": {
            "image/png": "[encoded data removed]",
            "text/plain": [
              "<matplotlib.figure.Figure at 0x7fa7e96a3590>"
            ]
          },
          "metadata": {
            "tags": []
          }
        }
      ]
    },
    {
      "metadata": {
        "id": "x7ys_NpKYsqm",
        "colab_type": "text"
      },
      "cell_type": "markdown",
      "source": [
        "# Log-Norm distribution"
      ]
    },
    {
      "metadata": {
        "id": "kHcfeaRGEXEe",
        "colab_type": "code",
        "colab": {
          "autoexec": {
            "startup": false,
            "wait_interval": 0
          }
        }
      },
      "cell_type": "code",
      "source": [
        "x = np.random.randn(10000)\n",
        "z = np.exp(x)"
      ],
      "execution_count": 0,
      "outputs": []
    },
    {
      "metadata": {
        "id": "npkDp6vCMTwM",
        "colab_type": "code",
        "colab": {
          "autoexec": {
            "startup": false,
            "wait_interval": 0
          },
          "base_uri": "https://localhost:8080/",
          "height": 347
        },
        "outputId": "4b15f592-140d-4f2e-89f9-843634b9587b",
        "executionInfo": {
          "status": "ok",
          "timestamp": 1530977710288,
          "user_tz": -480,
          "elapsed": 1297,
          "user": {
            "displayName": "刘金国",
            "photoUrl": "//lh3.googleusercontent.com/-lDAT81T3HSE/AAAAAAAAAAI/AAAAAAAAAgw/eH3JEob7M1Y/s50-c-k-no/photo.jpg",
            "userId": "116824001998056121289"
          }
        }
      },
      "cell_type": "code",
      "source": [
        "plt.plot(xvals, lognorm.pdf(xvals, 1), color='#CC3333')\n",
        "showpdf(z)"
      ],
      "execution_count": 64,
      "outputs": [
        {
          "output_type": "display_data",
          "data": {
            "image/png": "[encoded data removed]",
            "text/plain": [
              "<matplotlib.figure.Figure at 0x7fa7e720a0d0>"
            ]
          },
          "metadata": {
            "tags": []
          }
        }
      ]
    },
    {
      "metadata": {
        "id": "TEI8xqz6Le-V",
        "colab_type": "code",
        "colab": {
          "autoexec": {
            "startup": false,
            "wait_interval": 0
          }
        }
      },
      "cell_type": "code",
      "source": [
        ""
      ],
      "execution_count": 0,
      "outputs": []
    }
  ]
}